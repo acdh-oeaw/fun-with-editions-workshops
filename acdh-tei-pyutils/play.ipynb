{
 "cells": [
  {
   "cell_type": "code",
   "execution_count": null,
   "metadata": {},
   "outputs": [],
   "source": [
    "import glob\n",
    "from acdh_tei_pyutils.tei import TeiReader\n",
    "from acdh_tei_pyutils.utils import make_entity_label, get_birth_death_year"
   ]
  },
  {
   "cell_type": "code",
   "execution_count": null,
   "metadata": {},
   "outputs": [],
   "source": [
    "file = glob.glob(\"./data/editions/*.xml\")[3]"
   ]
  },
  {
   "cell_type": "code",
   "execution_count": null,
   "metadata": {},
   "outputs": [],
   "source": [
    "# parse an TEI/FILE\n",
    "doc = TeiReader(file)"
   ]
  },
  {
   "cell_type": "code",
   "execution_count": null,
   "metadata": {},
   "outputs": [],
   "source": [
    "# run some XPATH (without namespaces issues)\n",
    "for x in doc.any_xpath(\".//tei:rs\"):\n",
    "    print(x.text, x.attrib)"
   ]
  },
  {
   "cell_type": "code",
   "execution_count": null,
   "metadata": {},
   "outputs": [],
   "source": [
    "doc = TeiReader(\"./data/indices/listperson.xml\")"
   ]
  },
  {
   "cell_type": "code",
   "execution_count": null,
   "metadata": {},
   "outputs": [],
   "source": [
    "# extract some data from person nodes\n",
    "for x in doc.any_xpath(\".//tei:person\"):\n",
    "    print(make_entity_label(x))\n",
    "    print(get_birth_death_year(x), \"-\", get_birth_death_year(x, birth=False))"
   ]
  },
  {
   "cell_type": "code",
   "execution_count": null,
   "metadata": {},
   "outputs": [],
   "source": []
  }
 ],
 "metadata": {
  "kernelspec": {
   "display_name": "venv",
   "language": "python",
   "name": "python3"
  },
  "language_info": {
   "codemirror_mode": {
    "name": "ipython",
    "version": 3
   },
   "file_extension": ".py",
   "mimetype": "text/x-python",
   "name": "python",
   "nbconvert_exporter": "python",
   "pygments_lexer": "ipython3",
   "version": "3.10.12"
  }
 },
 "nbformat": 4,
 "nbformat_minor": 2
}
