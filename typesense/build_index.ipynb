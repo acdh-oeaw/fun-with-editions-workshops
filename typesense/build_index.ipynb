{
 "cells": [
  {
   "cell_type": "code",
   "execution_count": null,
   "metadata": {},
   "outputs": [],
   "source": [
    "import glob\n",
    "import os\n",
    "import typesense\n",
    "from tqdm import tqdm\n",
    "from typesense.exceptions import ObjectNotFound\n",
    "from acdh_tei_pyutils.tei import TeiReader\n",
    "from acdh_tei_pyutils.utils import extract_fulltext, get_xmlid, make_entity_label"
   ]
  },
  {
   "cell_type": "code",
   "execution_count": null,
   "metadata": {},
   "outputs": [],
   "source": [
    "# lets define some varibales, we use `os.environ` because IRL we wouldn't add all those infos into the code\n",
    "TYPESENSE_COLLECTION_NAME = \"maechtekongresse-play\"\n",
    "TYPESENSE_API_KEY = os.environ.get(\"TYPESENSE_API_KEY\", \"xyz\")\n",
    "TYPESENSE_TIMEOUT = os.environ.get(\"TYPESENSE_TIMEOUT\", \"120\")\n",
    "TYPESENSE_HOST = os.environ.get(\"TYPESENSE_HOST\", \"localhost\")\n",
    "TYPESENSE_PORT = os.environ.get(\"TYPESENSE_PORT\", \"8108\")\n",
    "TYPESENSE_PROTOCOL = os.environ.get(\"TYPESENSE_PROTOCOL\", \"http\")"
   ]
  },
  {
   "cell_type": "code",
   "execution_count": null,
   "metadata": {},
   "outputs": [],
   "source": [
    "# here we initialize a typesense client (using the variables declared above)\n",
    "\n",
    "client = typesense.Client(\n",
    "    {\n",
    "        \"nodes\": [\n",
    "            {\n",
    "                \"host\": TYPESENSE_HOST,\n",
    "                \"port\": TYPESENSE_PORT,\n",
    "                \"protocol\": TYPESENSE_PROTOCOL\n",
    "            }\n",
    "        ],\n",
    "        \"api_key\": TYPESENSE_API_KEY,\n",
    "        \"connection_timeout_seconds\": int(TYPESENSE_TIMEOUT)\n",
    "    }\n",
    ")"
   ]
  },
  {
   "cell_type": "code",
   "execution_count": null,
   "metadata": {},
   "outputs": [],
   "source": [
    "# now we define our schema, which in typesense is called a collection\n",
    "# see https://typesense.org/docs/0.25.2/api/collections.html\n",
    "current_schema = {\n",
    "    \"name\": TYPESENSE_COLLECTION_NAME,\n",
    "    \"enable_nested_fields\": True,\n",
    "    \"fields\": [\n",
    "        {\"name\": \"id\", \"type\": \"string\"},\n",
    "        {\"name\": \"title\", \"type\": \"string\"},\n",
    "        {\"name\": \"full_text\", \"type\": \"string\"},\n",
    "        {\n",
    "            \"name\": \"year\",\n",
    "            \"type\": \"int32\",\n",
    "            \"facet\": True,\n",
    "        },\n",
    "        {\"name\": \"conference\", \"type\": \"string\", \"facet\": True},\n",
    "        {\"name\": \"persons\", \"type\": \"object[]\", \"facet\": True, \"optional\": True},\n",
    "        {\"name\": \"places\", \"type\": \"object[]\", \"facet\": True, \"optional\": True},\n",
    "    ]\n",
    "}"
   ]
  },
  {
   "cell_type": "code",
   "execution_count": null,
   "metadata": {},
   "outputs": [],
   "source": [
    "# this step is only needed in cases you want to change an existing schema/collection, or to overwrite existing documents in the collection\n",
    "# by deleting the collection you also delete all related documents, but we don't care, because reindexing is fast enough\n",
    "try:\n",
    "    client.collections[TYPESENSE_COLLECTION_NAME].delete()\n",
    "except ObjectNotFound:\n",
    "    pass"
   ]
  },
  {
   "cell_type": "code",
   "execution_count": null,
   "metadata": {},
   "outputs": [],
   "source": [
    "# now lets create our collection for good\n",
    "client.collections.create(current_schema)\n",
    "# and have a look at the typesense dashboard http://localhost/#/"
   ]
  },
  {
   "cell_type": "code",
   "execution_count": null,
   "metadata": {},
   "outputs": [],
   "source": [
    "# now we need to create \"documents\" we'd like to ingest;\n",
    "# this boils down to an list of dicts in python lingo\n",
    "# for this we iterate over our TEI/XML files and extract info matching our typesense collection\n",
    "files = sorted(glob.glob(\"typesense_data/*xml\"))\n",
    "records = []\n",
    "for x in tqdm(files, total=len(files)):\n",
    "    doc = TeiReader(x)  # we are parsing the xml\n",
    "    document = {}  # initialising an empty dict for our document we want to index\n",
    "    _, doc_id = os.path.split(x)  # generating the doc-id from the filename\n",
    "    document[\"id\"] = doc_id\n",
    "    document[\"title\"] = doc.any_xpath(\".//tei:title[@type='main']\")[0].text # getting the title, quick and dirty method\n",
    "    document[\"full_text\"] = extract_fulltext(doc.any_xpath(\".//tei:body\")[0])[:5]  # even quicker and dirtier\n",
    "    document[\"conference\"] = doc_id.split(\"_\")[0] # extract the place of the conference\n",
    "    try:\n",
    "        year = doc.any_xpath(\".//tei:origin/tei:date/@when\")[0][:4]\n",
    "    except IndexError:  # of course we deal with incloplete data, Verona_I_8.xml is without date, so here one way to circumvent this\n",
    "        year = \"1000\"\n",
    "    document[\"year\"] = int(year)  # remeber our schema: '\"type\": \"int32\"\n",
    "    document[\"persons\"] = []\n",
    "    document[\"place\"] = []\n",
    "\n",
    "    # now to the optional facets:\n",
    "    for y in doc.any_xpath(\".//tei:back//tei:person\"):\n",
    "        item = {\n",
    "            \"id\": get_xmlid(y),  # praise acdh_tei_pyutils for its helper functions\n",
    "            \"label\": make_entity_label(y)[0] # praise acdh_tei_pyutils even more\n",
    "        }\n",
    "        document[\"persons\"].append(item) \n",
    "    # ToDo: soemthing similar for places\n",
    "    records.append(document)\n"
   ]
  },
  {
   "cell_type": "code",
   "execution_count": null,
   "metadata": {},
   "outputs": [],
   "source": [
    "# now populate our collection with documents\n",
    "client.collections[TYPESENSE_COLLECTION_NAME].documents.import_(records)  # this should fail the first time"
   ]
  },
  {
   "cell_type": "code",
   "execution_count": null,
   "metadata": {},
   "outputs": [],
   "source": []
  }
 ],
 "metadata": {
  "kernelspec": {
   "display_name": "venv",
   "language": "python",
   "name": "python3"
  },
  "language_info": {
   "codemirror_mode": {
    "name": "ipython",
    "version": 3
   },
   "file_extension": ".py",
   "mimetype": "text/x-python",
   "name": "python",
   "nbconvert_exporter": "python",
   "pygments_lexer": "ipython3",
   "version": "3.10.12"
  }
 },
 "nbformat": 4,
 "nbformat_minor": 2
}
